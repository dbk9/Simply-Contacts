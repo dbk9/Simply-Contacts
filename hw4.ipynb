{
  "cells": [
    {
      "cell_type": "markdown",
      "metadata": {
        "id": "view-in-github",
        "colab_type": "text"
      },
      "source": [
        "<a href=\"https://colab.research.google.com/github/dbk9/Simply-Contacts/blob/main/hw4.ipynb\" target=\"_parent\"><img src=\"https://colab.research.google.com/assets/colab-badge.svg\" alt=\"Open In Colab\"/></a>"
      ]
    },
    {
      "cell_type": "markdown",
      "metadata": {
        "id": "Iq5k_y_6RI0t"
      },
      "source": [
        "# Homework 4: Clustering\n",
        "1. [20%] Plot your data in a cartesian plane.\n",
        "\n",
        "  a. Put Age in the x-axis, Height in the Y-axis (you can use the factor of m=15 in this axis) to visualize how close they are using the defined distance"
      ]
    },
    {
      "cell_type": "code",
      "execution_count": 100,
      "metadata": {
        "colab": {
          "base_uri": "https://localhost:8080/",
          "height": 265
        },
        "id": "s9Y1Z-w1RI0x",
        "outputId": "dc7d8f92-7673-471c-eff0-1d71e26452dd"
      },
      "outputs": [
        {
          "output_type": "display_data",
          "data": {
            "text/plain": [
              "<Figure size 432x288 with 1 Axes>"
            ],
            "image/png": "[encoded data removed]"
          },
          "metadata": {
            "needs_background": "light"
          }
        }
      ],
      "source": [
        "import numpy as np\n",
        "import matplotlib.pyplot as plt\n",
        "import pandas as pd\n",
        "\n",
        "df = pd.read_csv(\"data.csv\")\n",
        "\n",
        "x = df[\"Age\"].values\n",
        "y = df[\"Height\"].values * (15)\n",
        "\n",
        "plt.scatter(x, y)\n",
        "plt.ylim([0,130])\n",
        "plt.show()"
      ]
    },
    {
      "cell_type": "markdown",
      "metadata": {
        "id": "CCmu3gizRI00"
      },
      "source": [
        "2. Define the number of clusters K=4, with seeds on Blake, Lebron, Peter and Grace, and compute:\n",
        "\n",
        "  a) [15%] Assign a group for each of the persons of the table"
      ]
    },
    {
      "cell_type": "code",
      "execution_count": 101,
      "metadata": {
        "colab": {
          "base_uri": "https://localhost:8080/",
          "height": 956
        },
        "id": "D0QpCSunRI00",
        "outputId": "16ece15c-7bdd-416a-a5f3-e9aaf14dd4c6"
      },
      "outputs": [
        {
          "output_type": "stream",
          "name": "stdout",
          "text": [
            "\n",
            "Centers: \n",
            "\n",
            "     Name  Gender Age Height cluster\n",
            "0   Blake    Male   5    4.3       1\n",
            "1  Lebron    Male  35    6.6       2\n",
            "2   Peter    Male  19    6.0       3\n",
            "3   Grace  Female  12    5.0       4\n",
            "\n",
            "Cluster 1:\n",
            "\n",
            "[['Jhon' 'Male' 2 2.4 1]\n",
            " ['Keneddy' 'Female' 12 4.4 1]\n",
            " ['Henry' 'Male' 8 4.6 1]\n",
            " ['Claire' 'Female' 8 4.5 1]\n",
            " ['Blake' 'Male' 5 4.3 1]]\n",
            "\n",
            "Cluster 2:\n",
            "\n",
            "[['Jessica' 'Female' 41 5.1 2]\n",
            " ['Lebron' 'Male' 35 6.6 2]]\n",
            "\n",
            "Cluster 3:\n",
            "\n",
            "[['Carlos' 'Male' 24 6.2 3]\n",
            " ['Peter' 'Male' 19 6.0 3]\n",
            " ['Ana' 'Female' 22 5.8 3]\n",
            " ['Jared' 'Male' 27 6.1 3]\n",
            " ['David' 'Male' 16 5.6 3]]\n",
            "\n",
            "Cluster 4:\n",
            "\n",
            "[['Lathia' 'Female' 17 5.3 4]\n",
            " ['Nancy' 'Female' 13 4.8 4]\n",
            " ['Jude' 'Female' 10 4.9 4]\n",
            " ['Grace' 'Female' 12 5.0 4]\n",
            " ['Mason' 'Male' 14 5.5 4]]\n",
            "\n",
            "\n"
          ]
        },
        {
          "output_type": "display_data",
          "data": {
            "text/plain": [
              "<Figure size 432x288 with 1 Axes>"
            ],
            "image/png": "[encoded data removed]"
          },
          "metadata": {
            "needs_background": "light"
          }
        }
      ],
      "source": [
        "import seaborn as sns\n",
        "\n",
        "def dist(x, y):\n",
        "    ageDist = np.abs(x[2] - y[2])\n",
        "    heightDist = 15 * np.abs(x[3] - y[3])\n",
        "    return ageDist + heightDist\n",
        "\n",
        "\n",
        "\n",
        "def compare(x, y):\n",
        "    count = 0\n",
        "    for i in range(0, y.shape[0]):\n",
        "        for j in range(0, 4):\n",
        "            if(x[j] == y[i][j]):\n",
        "                count += 1\n",
        "            if(count == 4):\n",
        "                y[i][4] = i + 1\n",
        "                return i + 1\n",
        "    return 0\n",
        "\n",
        "\n",
        "\n",
        "def print_clusters(df):\n",
        "    cluster1 = np.array(df.loc[df[\"cluster\"] == 1])\n",
        "    cluster2 = np.array(df.loc[df[\"cluster\"] == 2])\n",
        "    cluster3 = np.array(df.loc[df[\"cluster\"] == 3])\n",
        "    cluster4 = np.array(df.loc[df[\"cluster\"] == 4])\n",
        "    clusters = [cluster1, cluster2, cluster3, cluster4]\n",
        "    \n",
        "    x = 1\n",
        "    for c in clusters:\n",
        "        print(f\"\\nCluster {x}:\\n\")\n",
        "        print(c)\n",
        "        x += 1\n",
        "\n",
        "\n",
        "\n",
        "def print_center(df):\n",
        "    print(\"\\nCenters: \\n\")\n",
        "    print(df)\n",
        "    \n",
        "\n",
        "\n",
        "def print_all(df, center_df):\n",
        "    print_center(center_df)\n",
        "    print_clusters(df)\n",
        "    \n",
        "    height_y = df[\"Height\"] * 15\n",
        "    center_height_y = center_df[\"Height\"] * 15\n",
        "    \n",
        "    sns.scatterplot(data=df,\n",
        "                    x=\"Age\", \n",
        "                    y=height_y,\n",
        "                    hue=\"cluster\"\n",
        "                    )\n",
        "\n",
        "    sns.scatterplot(data=center_df,\n",
        "                    x=\"Age\",\n",
        "                    y=center_height_y,\n",
        "                    hue=\"cluster\"\n",
        "                  )\n",
        "\n",
        "    legend = plt.legend()\n",
        "    legend.remove()\n",
        "    print(\"\\n\")\n",
        "    plt.show()\n",
        "\n",
        "\n",
        "\n",
        "n = 4\n",
        "df[\"cluster\"] = 0\n",
        "\n",
        "seed1 = df[df[\"Name\"] == \"Blake\"]\n",
        "seed2 = df[df[\"Name\"] == \"Lebron\"]\n",
        "seed3 = df[df[\"Name\"] == \"Peter\"]\n",
        "seed4 = df[df[\"Name\"] == \"Grace\"]\n",
        "\n",
        "seed1, seed2, seed3, seed4 = np.array(seed1)[0], np.array(seed2)[0], np.array(seed3)[0], np.array(seed4)[0]\n",
        "\n",
        "seeds = np.array([seed1, seed2, seed3, seed4])\n",
        "\n",
        "for x in range(0, df.shape[0]):\n",
        "    temp = np.array(df.iloc[x])\n",
        "    if(compare(temp, seeds)):\n",
        "        temp[4] = compare(temp, seeds)\n",
        "        df.iloc[x] = temp\n",
        "        continue\n",
        "    \n",
        "    dists = np.array([0]*4)\n",
        "    for i in range(0, seeds.shape[0]):\n",
        "        dists[i] = dist(temp, seeds[i])\n",
        "        \n",
        "    min_index = np.argmin(dists)\n",
        "    \n",
        "    temp[4] = min_index + 1\n",
        "    df.iloc[x] = temp\n",
        "    \n",
        "\n",
        "\n",
        "seeds_df = pd.DataFrame(seeds, columns=[\"Name\", \"Gender\", \"Age\", \"Height\", \"cluster\"])\n",
        "\n",
        "print_all(df, seeds_df)"
      ]
    },
    {
      "cell_type": "markdown",
      "metadata": {
        "id": "UVbOyHR_RI02"
      },
      "source": [
        "b) [15%] Compute new centers"
      ]
    },
    {
      "cell_type": "code",
      "execution_count": 102,
      "metadata": {
        "colab": {
          "base_uri": "https://localhost:8080/",
          "height": 956
        },
        "id": "Pkrl_7LURI02",
        "outputId": "bae225e9-bfc4-4180-e5e3-57f67d6ad240"
      },
      "outputs": [
        {
          "output_type": "stream",
          "name": "stdout",
          "text": [
            "\n",
            "Centers: \n",
            "\n",
            "    Age  Height  cluster\n",
            "0   7.0    4.04      1.0\n",
            "1  38.0    5.85      2.0\n",
            "2  21.6    5.94      3.0\n",
            "3  13.2    5.10      4.0\n",
            "\n",
            "Cluster 1:\n",
            "\n",
            "[['Jhon' 'Male' 2 2.4 1]\n",
            " ['Keneddy' 'Female' 12 4.4 1]\n",
            " ['Henry' 'Male' 8 4.6 1]\n",
            " ['Claire' 'Female' 8 4.5 1]\n",
            " ['Blake' 'Male' 5 4.3 1]]\n",
            "\n",
            "Cluster 2:\n",
            "\n",
            "[['Jessica' 'Female' 41 5.1 2]\n",
            " ['Lebron' 'Male' 35 6.6 2]]\n",
            "\n",
            "Cluster 3:\n",
            "\n",
            "[['Carlos' 'Male' 24 6.2 3]\n",
            " ['Peter' 'Male' 19 6.0 3]\n",
            " ['Ana' 'Female' 22 5.8 3]\n",
            " ['Jared' 'Male' 27 6.1 3]\n",
            " ['David' 'Male' 16 5.6 3]]\n",
            "\n",
            "Cluster 4:\n",
            "\n",
            "[['Lathia' 'Female' 17 5.3 4]\n",
            " ['Nancy' 'Female' 13 4.8 4]\n",
            " ['Jude' 'Female' 10 4.9 4]\n",
            " ['Grace' 'Female' 12 5.0 4]\n",
            " ['Mason' 'Male' 14 5.5 4]]\n",
            "\n",
            "\n"
          ]
        },
        {
          "output_type": "display_data",
          "data": {
            "text/plain": [
              "<Figure size 432x288 with 1 Axes>"
            ],
            "image/png": "[encoded data removed]"
          },
          "metadata": {
            "needs_background": "light"
          }
        }
      ],
      "source": [
        "def find_centers(df):\n",
        "    cluster1 = np.array(df.loc[df[\"cluster\"] == 1])\n",
        "    cluster2 = np.array(df.loc[df[\"cluster\"] == 2])\n",
        "    cluster3 = np.array(df.loc[df[\"cluster\"] == 3])\n",
        "    cluster4 = np.array(df.loc[df[\"cluster\"] == 4])\n",
        "\n",
        "    clusters = [cluster1, cluster2, cluster3, cluster4]\n",
        "    new_centers = np.zeros((4,3))\n",
        "    new_counter = 0\n",
        "\n",
        "    for c in clusters:\n",
        "        Ages = np.zeros(c.shape[0])\n",
        "        Heights = np.zeros(c.shape[0])\n",
        "\n",
        "        for i in range(0, c.shape[0]):\n",
        "            Ages[i] = c[i][2]\n",
        "            Heights[i] = c[i][3]\n",
        "\n",
        "        new_centers[new_counter][0] = np.average(Ages)\n",
        "        new_centers[new_counter][1] = np.average(Heights)    \n",
        "        new_centers[new_counter][2] = new_counter + 1  \n",
        "        new_counter += 1\n",
        "    \n",
        "    return new_centers\n",
        "\n",
        "new_centers = find_centers(df)\n",
        "new_center_df = pd.DataFrame(new_centers, columns=[\"Age\", \"Height\", \"cluster\"])\n",
        "\n",
        "print_all(df, new_center_df)"
      ]
    },
    {
      "cell_type": "markdown",
      "metadata": {
        "id": "7ZOn1hyKRI03"
      },
      "source": [
        "3. Compute and show results in tables:\n",
        "\n",
        "  a) [15%] Assign a group for each of the persons of the table"
      ]
    },
    {
      "cell_type": "code",
      "execution_count": 103,
      "metadata": {
        "colab": {
          "base_uri": "https://localhost:8080/",
          "height": 956
        },
        "id": "fF-__R_RRI04",
        "outputId": "1ccbd5a3-8dee-4aa0-9c1d-827c35386457"
      },
      "outputs": [
        {
          "output_type": "stream",
          "name": "stdout",
          "text": [
            "\n",
            "Centers: \n",
            "\n",
            "    Age  Height  cluster\n",
            "0   7.0    4.04      1.0\n",
            "1  38.0    5.85      2.0\n",
            "2  21.6    5.94      3.0\n",
            "3  13.2    5.10      4.0\n",
            "\n",
            "Cluster 1:\n",
            "\n",
            "[['Jhon' 'Male' 2 2.4 1]\n",
            " ['Keneddy' 'Female' 12 4.4 1]\n",
            " ['Henry' 'Male' 8 4.6 1]\n",
            " ['Claire' 'Female' 8 4.5 1]\n",
            " ['Blake' 'Male' 5 4.3 1]]\n",
            "\n",
            "Cluster 2:\n",
            "\n",
            "[['Jessica' 'Female' 41 5.1 2]\n",
            " ['Lebron' 'Male' 35 6.6 2]]\n",
            "\n",
            "Cluster 3:\n",
            "\n",
            "[['Carlos' 'Male' 24 6.2 3]\n",
            " ['Peter' 'Male' 19 6.0 3]\n",
            " ['Ana' 'Female' 22 5.8 3]\n",
            " ['Jared' 'Male' 27 6.1 3]]\n",
            "\n",
            "Cluster 4:\n",
            "\n",
            "[['Lathia' 'Female' 17 5.3 4]\n",
            " ['Nancy' 'Female' 13 4.8 4]\n",
            " ['David' 'Male' 16 5.6 4]\n",
            " ['Jude' 'Female' 10 4.9 4]\n",
            " ['Grace' 'Female' 12 5.0 4]\n",
            " ['Mason' 'Male' 14 5.5 4]]\n",
            "\n",
            "\n"
          ]
        },
        {
          "output_type": "display_data",
          "data": {
            "text/plain": [
              "<Figure size 432x288 with 1 Axes>"
            ],
            "image/png": "[encoded data removed]"
          },
          "metadata": {
            "needs_background": "light"
          }
        }
      ],
      "source": [
        "def dist_(x, y):\n",
        "    age_dist = np.abs(x[2] - y[0])\n",
        "    height_dist = np.abs(x[3] - y[1]) * 15\n",
        "    return age_dist + height_dist\n",
        "\n",
        "def new_clusters(df, centers):\n",
        "    for i in range(0, df.shape[0]):\n",
        "        person = np.array(df.iloc[i])\n",
        "        dists = np.zeros(4)\n",
        "        for j in range(0, centers.shape[0]):\n",
        "            dists[j] = dist_(person, centers[j])\n",
        "        min_dist = dists.min()\n",
        "        min_index = np.argmin(dists)\n",
        "\n",
        "        person[4] = min_index + 1\n",
        "        df.iloc[i] = person\n",
        "\n",
        "new_clusters(df, new_centers)\n",
        "print_all(df, new_center_df)"
      ]
    },
    {
      "cell_type": "markdown",
      "metadata": {
        "id": "JW4lqZv0RI04"
      },
      "source": [
        "  b) [15%] Compute a new center"
      ]
    },
    {
      "cell_type": "code",
      "execution_count": 104,
      "metadata": {
        "colab": {
          "base_uri": "https://localhost:8080/",
          "height": 956
        },
        "id": "jSLLPKGSRI05",
        "outputId": "9069454f-aa2e-4205-9b11-2b2d02cfbfb8"
      },
      "outputs": [
        {
          "output_type": "stream",
          "name": "stdout",
          "text": [
            "\n",
            "Centers: \n",
            "\n",
            "         Age    Height  cluster\n",
            "0   7.000000  4.040000      1.0\n",
            "1  38.000000  5.850000      2.0\n",
            "2  23.000000  6.025000      3.0\n",
            "3  13.666667  5.183333      4.0\n",
            "\n",
            "Cluster 1:\n",
            "\n",
            "[['Jhon' 'Male' 2 2.4 1]\n",
            " ['Keneddy' 'Female' 12 4.4 1]\n",
            " ['Henry' 'Male' 8 4.6 1]\n",
            " ['Claire' 'Female' 8 4.5 1]\n",
            " ['Blake' 'Male' 5 4.3 1]]\n",
            "\n",
            "Cluster 2:\n",
            "\n",
            "[['Jessica' 'Female' 41 5.1 2]\n",
            " ['Lebron' 'Male' 35 6.6 2]]\n",
            "\n",
            "Cluster 3:\n",
            "\n",
            "[['Carlos' 'Male' 24 6.2 3]\n",
            " ['Peter' 'Male' 19 6.0 3]\n",
            " ['Ana' 'Female' 22 5.8 3]\n",
            " ['Jared' 'Male' 27 6.1 3]]\n",
            "\n",
            "Cluster 4:\n",
            "\n",
            "[['Lathia' 'Female' 17 5.3 4]\n",
            " ['Nancy' 'Female' 13 4.8 4]\n",
            " ['David' 'Male' 16 5.6 4]\n",
            " ['Jude' 'Female' 10 4.9 4]\n",
            " ['Grace' 'Female' 12 5.0 4]\n",
            " ['Mason' 'Male' 14 5.5 4]]\n",
            "\n",
            "\n"
          ]
        },
        {
          "output_type": "display_data",
          "data": {
            "text/plain": [
              "<Figure size 432x288 with 1 Axes>"
            ],
            "image/png": "[encoded data removed]"
          },
          "metadata": {
            "needs_background": "light"
          }
        }
      ],
      "source": [
        "new_centers_1 = find_centers(df)\n",
        "new_centers_1_df = pd.DataFrame(new_centers_1, columns = [\"Age\", \"Height\", \"cluster\"])\n",
        "\n",
        "new_clusters(df, new_centers_1)\n",
        "print_all(df, new_centers_1_df)"
      ]
    },
    {
      "cell_type": "markdown",
      "metadata": {
        "id": "tcSGqDjWRI05"
      },
      "source": [
        "4. [10%] Do you see any change in the assignations of the clusters? Would you recommend an\n",
        "extra round of computations?"
      ]
    },
    {
      "cell_type": "markdown",
      "metadata": {
        "id": "wxb6410oRI05"
      },
      "source": [
        "  The cluster centers for cluster 3 and 4 have changed, while cluster 1 and 2 remained unchanged. However, all the data points are the same, so another round of computation may provide better models."
      ]
    },
    {
      "cell_type": "markdown",
      "metadata": {
        "id": "hIv283V2RI06"
      },
      "source": [
        "5. [10%] Could you tell some characteristics about the clusters created. Check the age, and/or\n",
        "height of the elements of each cluster. Do the cluster corresponds makes sense in the real\n",
        "world?"
      ]
    },
    {
      "cell_type": "markdown",
      "metadata": {
        "id": "68Lfb4vURI06"
      },
      "source": [
        "Cluster 1 is made up of people under the age of 14. Cluster 2 has people who are age 35 and above. Cluster 3 is made up of people with age above 18 but less than 35. Cluster 4 has people who are 13-17 years old. The clusters do make snese in the real world."
      ]
    }
  ],
  "metadata": {
    "kernelspec": {
      "display_name": "Python 3.9.7 ('base')",
      "language": "python",
      "name": "python3"
    },
    "language_info": {
      "codemirror_mode": {
        "name": "ipython",
        "version": 3
      },
      "file_extension": ".py",
      "mimetype": "text/x-python",
      "name": "python",
      "nbconvert_exporter": "python",
      "pygments_lexer": "ipython3",
      "version": "3.9.7"
    },
    "orig_nbformat": 4,
    "vscode": {
      "interpreter": {
        "hash": "a3ee220867a5e04a59d9ed1db93e02ef455d7ee2b412614bb8ba096377618b33"
      }
    },
    "colab": {
      "provenance": [],
      "collapsed_sections": [],
      "include_colab_link": true
    }
  },
  "nbformat": 4,
  "nbformat_minor": 0
}