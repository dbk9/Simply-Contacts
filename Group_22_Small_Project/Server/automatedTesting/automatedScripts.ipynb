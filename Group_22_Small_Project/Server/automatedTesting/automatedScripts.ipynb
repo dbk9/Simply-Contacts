{
 "cells": [
  {
   "cell_type": "markdown",
   "metadata": {},
   "source": [
    "Web Testing"
   ]
  },
  {
   "cell_type": "markdown",
   "metadata": {},
   "source": [
    "Imports"
   ]
  },
  {
   "cell_type": "code",
   "execution_count": null,
   "metadata": {},
   "outputs": [],
   "source": [
    "import selenium\n",
    "from selenium import webdriver\n",
    "from msedge.selenium_tools import Edge, EdgeOptions\n",
    "from time import sleep"
   ]
  },
  {
   "cell_type": "markdown",
   "metadata": {},
   "source": [
    "Import from path file"
   ]
  },
  {
   "cell_type": "code",
   "execution_count": null,
   "metadata": {},
   "outputs": [],
   "source": [
    "from path import path"
   ]
  },
  {
   "cell_type": "markdown",
   "metadata": {},
   "source": [
    "Determine If you Want Sleep values"
   ]
  },
  {
   "cell_type": "code",
   "execution_count": null,
   "metadata": {},
   "outputs": [],
   "source": [
    "# Values should be between 1-infinite\n",
    "# Values represented by seconds 1 = 1sec\n",
    "sleepTime = 2\n",
    "endTime = 1000"
   ]
  },
  {
   "cell_type": "markdown",
   "metadata": {},
   "source": [
    "Test The Login Feature With Default Values"
   ]
  },
  {
   "cell_type": "code",
   "execution_count": null,
   "metadata": {},
   "outputs": [],
   "source": [
    "def loginToWebSite(username=\"RickL\", password=\"COP4331\") :\n",
    "    loginDriver = Edge(path)\n",
    "    loginDriver.get(\"http://cop4331.xyz\")\n",
    "    sleep(sleepTime)\n",
    "\n",
    "    usernameBox = loginDriver.find_element_by_id(\"username\")\n",
    "    usernameBox.send_keys(username)\n",
    "    sleep(sleepTime)\n",
    "\n",
    "    passwordBox = loginDriver.find_element_by_id(\"password\")\n",
    "    passwordBox.send_keys(password)\n",
    "    sleep(sleepTime)\n",
    "\n",
    "    loginButton = loginDriver.find_element_by_id(\"doLoginButton\")\n",
    "    loginButton.click()\n",
    "    sleep(sleepTime*5)\n",
    "\n",
    "    loginDriver.close()"
   ]
  },
  {
   "cell_type": "markdown",
   "metadata": {},
   "source": [
    "Login Test"
   ]
  },
  {
   "cell_type": "code",
   "execution_count": null,
   "metadata": {},
   "outputs": [],
   "source": [
    "loginToWebSite()"
   ]
  },
  {
   "cell_type": "markdown",
   "metadata": {},
   "source": [
    "Test the Register Feature With Default Values"
   ]
  },
  {
   "cell_type": "code",
   "execution_count": null,
   "metadata": {},
   "outputs": [],
   "source": [
    "def registerNewUser(newFirstName=\"TEST\", newLastName=\"TEST\", newUsername=\"TEST\", newPassword=\"TEST\") :\n",
    "    registerDriver = Edge(path)\n",
    "    registerDriver.get(\"http://cop4331.xyz\")\n",
    "    sleep(sleepTime)\n",
    "\n",
    "    registerButton = registerDriver.find_element_by_id(\"goToRegister\")\n",
    "    registerButton.click()\n",
    "    sleep(sleepTime)\n",
    "\n",
    "    newFirstNameBox = registerDriver.find_element_by_id(\"newFirstName\")\n",
    "    newFirstNameBox.send_keys(newFirstName)\n",
    "    sleep(sleepTime)\n",
    "\n",
    "    newLastNameBox= registerDriver.find_element_by_id(\"newLastName\")\n",
    "    newLastNameBox.send_keys(newLastName)\n",
    "    sleep(sleepTime)\n",
    "\n",
    "    newUsernameBox = registerDriver.find_element_by_id(\"newUsername\")\n",
    "    newUsernameBox.send_keys(newUsername)\n",
    "    sleep(sleepTime)\n",
    "\n",
    "    newPasswordBox = registerDriver.find_element_by_id(\"newPassword\")\n",
    "    newPasswordBox.send_keys(newPassword)\n",
    "    sleep(sleepTime)\n",
    "\n",
    "    registerButton = registerDriver.find_element_by_id(\"doRegisterButton\")\n",
    "    registerButton.click()\n",
    "    sleep(sleepTime*5)\n",
    "\n",
    "    registerDriver.close()"
   ]
  },
  {
   "cell_type": "markdown",
   "metadata": {},
   "source": [
    "Register Test"
   ]
  },
  {
   "cell_type": "code",
   "execution_count": null,
   "metadata": {},
   "outputs": [],
   "source": [
    "registerNewUser()"
   ]
  },
  {
   "cell_type": "code",
   "execution_count": 8,
   "metadata": {},
   "outputs": [],
   "source": [
    "loginToWebSite(\"TEST\", \"TEST\")"
   ]
  }
 ],
 "metadata": {
  "interpreter": {
   "hash": "536121d105c29d7810f2b35f001db34c16532c26e3a5335b7a351ea80cf62c64"
  },
  "kernelspec": {
   "display_name": "Python 3.9.6 64-bit (system)",
   "language": "python",
   "name": "python3"
  },
  "language_info": {
   "codemirror_mode": {
    "name": "ipython",
    "version": 3
   },
   "file_extension": ".py",
   "mimetype": "text/x-python",
   "name": "python",
   "nbconvert_exporter": "python",
   "pygments_lexer": "ipython3",
   "version": "3.9.6"
  },
  "orig_nbformat": 4
 },
 "nbformat": 4,
 "nbformat_minor": 2
}
